{
 "cells": [
  {
   "cell_type": "code",
   "execution_count": 1,
   "id": "ae9c6097",
   "metadata": {
    "scrolled": true
   },
   "outputs": [
    {
     "name": "stdout",
     "output_type": "stream",
     "text": [
      "Requirement already satisfied: pyspark in c:\\users\\os\\anaconda3\\lib\\site-packages (3.4.0)\n",
      "Requirement already satisfied: py4j==0.10.9.7 in c:\\users\\os\\anaconda3\\lib\\site-packages (from pyspark) (0.10.9.7)\n"
     ]
    },
    {
     "name": "stderr",
     "output_type": "stream",
     "text": [
      "WARNING: Ignoring invalid distribution -tatsmodels (c:\\users\\os\\anaconda3\\lib\\site-packages)\n",
      "WARNING: Ignoring invalid distribution -tatsmodels (c:\\users\\os\\anaconda3\\lib\\site-packages)\n",
      "WARNING: Ignoring invalid distribution -tatsmodels (c:\\users\\os\\anaconda3\\lib\\site-packages)\n",
      "WARNING: Ignoring invalid distribution -tatsmodels (c:\\users\\os\\anaconda3\\lib\\site-packages)\n",
      "WARNING: Ignoring invalid distribution -tatsmodels (c:\\users\\os\\anaconda3\\lib\\site-packages)\n",
      "WARNING: Ignoring invalid distribution -tatsmodels (c:\\users\\os\\anaconda3\\lib\\site-packages)\n"
     ]
    }
   ],
   "source": [
    "!pip install pyspark"
   ]
  },
  {
   "cell_type": "code",
   "execution_count": 2,
   "id": "bbe706cf",
   "metadata": {},
   "outputs": [],
   "source": [
    "import pyspark"
   ]
  },
  {
   "cell_type": "code",
   "execution_count": 3,
   "id": "f789df0b",
   "metadata": {},
   "outputs": [
    {
     "data": {
      "text/html": [
       "<div>\n",
       "<style scoped>\n",
       "    .dataframe tbody tr th:only-of-type {\n",
       "        vertical-align: middle;\n",
       "    }\n",
       "\n",
       "    .dataframe tbody tr th {\n",
       "        vertical-align: top;\n",
       "    }\n",
       "\n",
       "    .dataframe thead th {\n",
       "        text-align: right;\n",
       "    }\n",
       "</style>\n",
       "<table border=\"1\" class=\"dataframe\">\n",
       "  <thead>\n",
       "    <tr style=\"text-align: right;\">\n",
       "      <th></th>\n",
       "      <th>sepal_length</th>\n",
       "      <th>sepal_width</th>\n",
       "      <th>petal_length</th>\n",
       "      <th>petal_width</th>\n",
       "      <th>plant</th>\n",
       "    </tr>\n",
       "  </thead>\n",
       "  <tbody>\n",
       "    <tr>\n",
       "      <th>0</th>\n",
       "      <td>5.1</td>\n",
       "      <td>3.5</td>\n",
       "      <td>1.4</td>\n",
       "      <td>0.2</td>\n",
       "      <td>0</td>\n",
       "    </tr>\n",
       "    <tr>\n",
       "      <th>1</th>\n",
       "      <td>4.9</td>\n",
       "      <td>3.0</td>\n",
       "      <td>1.4</td>\n",
       "      <td>0.2</td>\n",
       "      <td>0</td>\n",
       "    </tr>\n",
       "    <tr>\n",
       "      <th>2</th>\n",
       "      <td>4.7</td>\n",
       "      <td>3.2</td>\n",
       "      <td>1.3</td>\n",
       "      <td>0.2</td>\n",
       "      <td>0</td>\n",
       "    </tr>\n",
       "    <tr>\n",
       "      <th>3</th>\n",
       "      <td>4.6</td>\n",
       "      <td>3.1</td>\n",
       "      <td>1.5</td>\n",
       "      <td>0.2</td>\n",
       "      <td>0</td>\n",
       "    </tr>\n",
       "    <tr>\n",
       "      <th>4</th>\n",
       "      <td>5.0</td>\n",
       "      <td>3.6</td>\n",
       "      <td>1.4</td>\n",
       "      <td>0.2</td>\n",
       "      <td>0</td>\n",
       "    </tr>\n",
       "    <tr>\n",
       "      <th>...</th>\n",
       "      <td>...</td>\n",
       "      <td>...</td>\n",
       "      <td>...</td>\n",
       "      <td>...</td>\n",
       "      <td>...</td>\n",
       "    </tr>\n",
       "    <tr>\n",
       "      <th>145</th>\n",
       "      <td>6.7</td>\n",
       "      <td>3.0</td>\n",
       "      <td>5.2</td>\n",
       "      <td>2.3</td>\n",
       "      <td>2</td>\n",
       "    </tr>\n",
       "    <tr>\n",
       "      <th>146</th>\n",
       "      <td>6.3</td>\n",
       "      <td>2.5</td>\n",
       "      <td>5.0</td>\n",
       "      <td>1.9</td>\n",
       "      <td>2</td>\n",
       "    </tr>\n",
       "    <tr>\n",
       "      <th>147</th>\n",
       "      <td>6.5</td>\n",
       "      <td>3.0</td>\n",
       "      <td>5.2</td>\n",
       "      <td>2.0</td>\n",
       "      <td>2</td>\n",
       "    </tr>\n",
       "    <tr>\n",
       "      <th>148</th>\n",
       "      <td>6.2</td>\n",
       "      <td>3.4</td>\n",
       "      <td>5.4</td>\n",
       "      <td>2.3</td>\n",
       "      <td>2</td>\n",
       "    </tr>\n",
       "    <tr>\n",
       "      <th>149</th>\n",
       "      <td>5.9</td>\n",
       "      <td>3.0</td>\n",
       "      <td>5.1</td>\n",
       "      <td>1.8</td>\n",
       "      <td>2</td>\n",
       "    </tr>\n",
       "  </tbody>\n",
       "</table>\n",
       "<p>150 rows × 5 columns</p>\n",
       "</div>"
      ],
      "text/plain": [
       "     sepal_length  sepal_width  petal_length  petal_width  plant\n",
       "0             5.1          3.5           1.4          0.2      0\n",
       "1             4.9          3.0           1.4          0.2      0\n",
       "2             4.7          3.2           1.3          0.2      0\n",
       "3             4.6          3.1           1.5          0.2      0\n",
       "4             5.0          3.6           1.4          0.2      0\n",
       "..            ...          ...           ...          ...    ...\n",
       "145           6.7          3.0           5.2          2.3      2\n",
       "146           6.3          2.5           5.0          1.9      2\n",
       "147           6.5          3.0           5.2          2.0      2\n",
       "148           6.2          3.4           5.4          2.3      2\n",
       "149           5.9          3.0           5.1          1.8      2\n",
       "\n",
       "[150 rows x 5 columns]"
      ]
     },
     "execution_count": 3,
     "metadata": {},
     "output_type": "execute_result"
    }
   ],
   "source": [
    "import pandas as pd\n",
    "\n",
    "pd.read_csv('iris.csv')"
   ]
  },
  {
   "cell_type": "markdown",
   "id": "cba716cb",
   "metadata": {},
   "source": [
    "In order to use pyspark so at 1st we have to start pyspark session "
   ]
  },
  {
   "cell_type": "code",
   "execution_count": 22,
   "id": "672dc2b8",
   "metadata": {},
   "outputs": [],
   "source": [
    "from pyspark.sql import SparkSession"
   ]
  },
  {
   "cell_type": "code",
   "execution_count": 23,
   "id": "9630b0cf",
   "metadata": {},
   "outputs": [],
   "source": [
    "spark = SparkSession.builder.appName('Practise_pyspark').getOrCreate()"
   ]
  },
  {
   "cell_type": "code",
   "execution_count": 24,
   "id": "d584af05",
   "metadata": {},
   "outputs": [
    {
     "data": {
      "text/html": [
       "\n",
       "            <div>\n",
       "                <p><b>SparkSession - in-memory</b></p>\n",
       "                \n",
       "        <div>\n",
       "            <p><b>SparkContext</b></p>\n",
       "\n",
       "            <p><a href=\"http://DESKTOP-TAB5GOS:4040\">Spark UI</a></p>\n",
       "\n",
       "            <dl>\n",
       "              <dt>Version</dt>\n",
       "                <dd><code>v3.3.2</code></dd>\n",
       "              <dt>Master</dt>\n",
       "                <dd><code>local[*]</code></dd>\n",
       "              <dt>AppName</dt>\n",
       "                <dd><code>Practise_pyspark</code></dd>\n",
       "            </dl>\n",
       "        </div>\n",
       "        \n",
       "            </div>\n",
       "        "
      ],
      "text/plain": [
       "<pyspark.sql.session.SparkSession at 0x242527c4df0>"
      ]
     },
     "execution_count": 24,
     "metadata": {},
     "output_type": "execute_result"
    }
   ],
   "source": [
    "spark"
   ]
  },
  {
   "cell_type": "code",
   "execution_count": 25,
   "id": "1b1a93ca",
   "metadata": {},
   "outputs": [
    {
     "data": {
      "text/plain": [
       "DataFrame[_c0: string, _c1: string, _c2: string, _c3: string, _c4: string]"
      ]
     },
     "execution_count": 25,
     "metadata": {},
     "output_type": "execute_result"
    }
   ],
   "source": [
    "# reading dataset\n",
    "df = spark.read.csv('iris.csv') \n",
    "df"
   ]
  },
  {
   "cell_type": "code",
   "execution_count": 26,
   "id": "4bba7dca",
   "metadata": {},
   "outputs": [
    {
     "name": "stdout",
     "output_type": "stream",
     "text": [
      "+------------+-----------+------------+-----------+-----+\n",
      "|         _c0|        _c1|         _c2|        _c3|  _c4|\n",
      "+------------+-----------+------------+-----------+-----+\n",
      "|sepal_length|sepal_width|petal_length|petal_width|plant|\n",
      "|         5.1|        3.5|         1.4|        0.2|    0|\n",
      "|         4.9|          3|         1.4|        0.2|    0|\n",
      "|         4.7|        3.2|         1.3|        0.2|    0|\n",
      "|         4.6|        3.1|         1.5|        0.2|    0|\n",
      "|           5|        3.6|         1.4|        0.2|    0|\n",
      "|         5.4|        3.9|         1.7|        0.4|    0|\n",
      "|         4.6|        3.4|         1.4|        0.3|    0|\n",
      "|           5|        3.4|         1.5|        0.2|    0|\n",
      "|         4.4|        2.9|         1.4|        0.2|    0|\n",
      "|         4.9|        3.1|         1.5|        0.1|    0|\n",
      "|         5.4|        3.7|         1.5|        0.2|    0|\n",
      "|         4.8|        3.4|         1.6|        0.2|    0|\n",
      "|         4.8|          3|         1.4|        0.1|    0|\n",
      "|         4.3|          3|         1.1|        0.1|    0|\n",
      "|         5.8|          4|         1.2|        0.2|    0|\n",
      "|         5.7|        4.4|         1.5|        0.4|    0|\n",
      "|         5.4|        3.9|         1.3|        0.4|    0|\n",
      "|         5.1|        3.5|         1.4|        0.3|    0|\n",
      "|         5.7|        3.8|         1.7|        0.3|    0|\n",
      "+------------+-----------+------------+-----------+-----+\n",
      "only showing top 20 rows\n",
      "\n"
     ]
    }
   ],
   "source": [
    "df = spark.read.csv('iris.csv')\n",
    "df.show()"
   ]
  },
  {
   "cell_type": "code",
   "execution_count": 33,
   "id": "04db580c",
   "metadata": {},
   "outputs": [
    {
     "data": {
      "text/plain": [
       "DataFrame[sepal_length: string, sepal_width: string, petal_length: string, petal_width: string, plant: string]"
      ]
     },
     "execution_count": 33,
     "metadata": {},
     "output_type": "execute_result"
    }
   ],
   "source": [
    "df = spark.read.option('header','true').csv('iris.csv') #here in output we are getting datatype as string by default \n",
    "df"
   ]
  },
  {
   "cell_type": "code",
   "execution_count": 34,
   "id": "1768330b",
   "metadata": {},
   "outputs": [
    {
     "name": "stdout",
     "output_type": "stream",
     "text": [
      "root\n",
      " |-- sepal_length: string (nullable = true)\n",
      " |-- sepal_width: string (nullable = true)\n",
      " |-- petal_length: string (nullable = true)\n",
      " |-- petal_width: string (nullable = true)\n",
      " |-- plant: string (nullable = true)\n",
      "\n"
     ]
    }
   ],
   "source": [
    "df.printSchema()"
   ]
  },
  {
   "cell_type": "code",
   "execution_count": 35,
   "id": "80779108",
   "metadata": {},
   "outputs": [
    {
     "data": {
      "text/plain": [
       "DataFrame[sepal_length: double, sepal_width: double, petal_length: double, petal_width: double, plant: int]"
      ]
     },
     "execution_count": 35,
     "metadata": {},
     "output_type": "execute_result"
    }
   ],
   "source": [
    "# to resolve above issue \n",
    "\n",
    "df = spark.read.option('header','true').csv('iris.csv',inferSchema = True)\n",
    "df"
   ]
  },
  {
   "cell_type": "code",
   "execution_count": 14,
   "id": "e5ae425f",
   "metadata": {},
   "outputs": [
    {
     "name": "stdout",
     "output_type": "stream",
     "text": [
      "+------------+-----------+------------+-----------+-----+\n",
      "|sepal_length|sepal_width|petal_length|petal_width|plant|\n",
      "+------------+-----------+------------+-----------+-----+\n",
      "|         5.1|        3.5|         1.4|        0.2|    0|\n",
      "|         4.9|          3|         1.4|        0.2|    0|\n",
      "|         4.7|        3.2|         1.3|        0.2|    0|\n",
      "|         4.6|        3.1|         1.5|        0.2|    0|\n",
      "|           5|        3.6|         1.4|        0.2|    0|\n",
      "|         5.4|        3.9|         1.7|        0.4|    0|\n",
      "|         4.6|        3.4|         1.4|        0.3|    0|\n",
      "|           5|        3.4|         1.5|        0.2|    0|\n",
      "|         4.4|        2.9|         1.4|        0.2|    0|\n",
      "|         4.9|        3.1|         1.5|        0.1|    0|\n",
      "|         5.4|        3.7|         1.5|        0.2|    0|\n",
      "|         4.8|        3.4|         1.6|        0.2|    0|\n",
      "|         4.8|          3|         1.4|        0.1|    0|\n",
      "|         4.3|          3|         1.1|        0.1|    0|\n",
      "|         5.8|          4|         1.2|        0.2|    0|\n",
      "|         5.7|        4.4|         1.5|        0.4|    0|\n",
      "|         5.4|        3.9|         1.3|        0.4|    0|\n",
      "|         5.1|        3.5|         1.4|        0.3|    0|\n",
      "|         5.7|        3.8|         1.7|        0.3|    0|\n",
      "|         5.1|        3.8|         1.5|        0.3|    0|\n",
      "+------------+-----------+------------+-----------+-----+\n",
      "only showing top 20 rows\n",
      "\n"
     ]
    }
   ],
   "source": [
    "#df = spark.read.option('header','true').csv('iris.csv')\n",
    "#df.show()"
   ]
  },
  {
   "cell_type": "code",
   "execution_count": 18,
   "id": "fde24260",
   "metadata": {},
   "outputs": [
    {
     "name": "stdout",
     "output_type": "stream",
     "text": [
      "+------------+-----------+------------+-----------+-----+\n",
      "|sepal_length|sepal_width|petal_length|petal_width|plant|\n",
      "+------------+-----------+------------+-----------+-----+\n",
      "|         5.1|        3.5|         1.4|        0.2|    0|\n",
      "|         4.9|          3|         1.4|        0.2|    0|\n",
      "|         4.7|        3.2|         1.3|        0.2|    0|\n",
      "|         4.6|        3.1|         1.5|        0.2|    0|\n",
      "|           5|        3.6|         1.4|        0.2|    0|\n",
      "|         5.4|        3.9|         1.7|        0.4|    0|\n",
      "|         4.6|        3.4|         1.4|        0.3|    0|\n",
      "|           5|        3.4|         1.5|        0.2|    0|\n",
      "|         4.4|        2.9|         1.4|        0.2|    0|\n",
      "|         4.9|        3.1|         1.5|        0.1|    0|\n",
      "|         5.4|        3.7|         1.5|        0.2|    0|\n",
      "|         4.8|        3.4|         1.6|        0.2|    0|\n",
      "|         4.8|          3|         1.4|        0.1|    0|\n",
      "|         4.3|          3|         1.1|        0.1|    0|\n",
      "|         5.8|          4|         1.2|        0.2|    0|\n",
      "|         5.7|        4.4|         1.5|        0.4|    0|\n",
      "|         5.4|        3.9|         1.3|        0.4|    0|\n",
      "|         5.1|        3.5|         1.4|        0.3|    0|\n",
      "|         5.7|        3.8|         1.7|        0.3|    0|\n",
      "|         5.1|        3.8|         1.5|        0.3|    0|\n",
      "+------------+-----------+------------+-----------+-----+\n",
      "only showing top 20 rows\n",
      "\n"
     ]
    }
   ],
   "source": [
    "#df = spark.read.option('header','true').csv('iris.csv').show()\n",
    "#df"
   ]
  },
  {
   "cell_type": "code",
   "execution_count": 36,
   "id": "10e7cd13",
   "metadata": {},
   "outputs": [
    {
     "data": {
      "text/plain": [
       "pyspark.sql.dataframe.DataFrame"
      ]
     },
     "execution_count": 36,
     "metadata": {},
     "output_type": "execute_result"
    }
   ],
   "source": [
    "type(df)"
   ]
  },
  {
   "cell_type": "code",
   "execution_count": 37,
   "id": "c9dd7225",
   "metadata": {},
   "outputs": [
    {
     "name": "stdout",
     "output_type": "stream",
     "text": [
      "root\n",
      " |-- sepal_length: double (nullable = true)\n",
      " |-- sepal_width: double (nullable = true)\n",
      " |-- petal_length: double (nullable = true)\n",
      " |-- petal_width: double (nullable = true)\n",
      " |-- plant: integer (nullable = true)\n",
      "\n"
     ]
    }
   ],
   "source": [
    "df.printSchema()  #it is like info() in pandas"
   ]
  },
  {
   "cell_type": "code",
   "execution_count": 39,
   "id": "0a70d7e9",
   "metadata": {},
   "outputs": [
    {
     "name": "stdout",
     "output_type": "stream",
     "text": [
      "+------------+-----------+------------+-----------+-----+\n",
      "|sepal_length|sepal_width|petal_length|petal_width|plant|\n",
      "+------------+-----------+------------+-----------+-----+\n",
      "|         5.1|        3.5|         1.4|        0.2|    0|\n",
      "|         4.9|        3.0|         1.4|        0.2|    0|\n",
      "|         4.7|        3.2|         1.3|        0.2|    0|\n",
      "|         4.6|        3.1|         1.5|        0.2|    0|\n",
      "|         5.0|        3.6|         1.4|        0.2|    0|\n",
      "|         5.4|        3.9|         1.7|        0.4|    0|\n",
      "|         4.6|        3.4|         1.4|        0.3|    0|\n",
      "|         5.0|        3.4|         1.5|        0.2|    0|\n",
      "|         4.4|        2.9|         1.4|        0.2|    0|\n",
      "|         4.9|        3.1|         1.5|        0.1|    0|\n",
      "|         5.4|        3.7|         1.5|        0.2|    0|\n",
      "|         4.8|        3.4|         1.6|        0.2|    0|\n",
      "|         4.8|        3.0|         1.4|        0.1|    0|\n",
      "|         4.3|        3.0|         1.1|        0.1|    0|\n",
      "|         5.8|        4.0|         1.2|        0.2|    0|\n",
      "|         5.7|        4.4|         1.5|        0.4|    0|\n",
      "|         5.4|        3.9|         1.3|        0.4|    0|\n",
      "|         5.1|        3.5|         1.4|        0.3|    0|\n",
      "|         5.7|        3.8|         1.7|        0.3|    0|\n",
      "|         5.1|        3.8|         1.5|        0.3|    0|\n",
      "+------------+-----------+------------+-----------+-----+\n",
      "only showing top 20 rows\n",
      "\n"
     ]
    }
   ],
   "source": [
    "#reading dataset in a one more different way\n",
    "\n",
    "df = spark.read.csv('iris.csv', header=True, inferSchema = True)\n",
    "df.show()"
   ]
  },
  {
   "cell_type": "code",
   "execution_count": 40,
   "id": "1429bc96",
   "metadata": {},
   "outputs": [
    {
     "data": {
      "text/plain": [
       "pyspark.sql.dataframe.DataFrame"
      ]
     },
     "execution_count": 40,
     "metadata": {},
     "output_type": "execute_result"
    }
   ],
   "source": [
    "type(df)"
   ]
  },
  {
   "cell_type": "code",
   "execution_count": 41,
   "id": "4370ce11",
   "metadata": {},
   "outputs": [
    {
     "name": "stdout",
     "output_type": "stream",
     "text": [
      "root\n",
      " |-- sepal_length: double (nullable = true)\n",
      " |-- sepal_width: double (nullable = true)\n",
      " |-- petal_length: double (nullable = true)\n",
      " |-- petal_width: double (nullable = true)\n",
      " |-- plant: integer (nullable = true)\n",
      "\n"
     ]
    }
   ],
   "source": [
    "df.printSchema()"
   ]
  },
  {
   "cell_type": "code",
   "execution_count": 43,
   "id": "2326ee9d",
   "metadata": {},
   "outputs": [
    {
     "data": {
      "text/plain": [
       "['sepal_length', 'sepal_width', 'petal_length', 'petal_width', 'plant']"
      ]
     },
     "execution_count": 43,
     "metadata": {},
     "output_type": "execute_result"
    }
   ],
   "source": [
    "# selecting columns \n",
    "\n",
    "df.columns"
   ]
  },
  {
   "cell_type": "code",
   "execution_count": 44,
   "id": "da533e61",
   "metadata": {},
   "outputs": [
    {
     "data": {
      "text/plain": [
       "[Row(sepal_length=5.1, sepal_width=3.5, petal_length=1.4, petal_width=0.2, plant=0),\n",
       " Row(sepal_length=4.9, sepal_width=3.0, petal_length=1.4, petal_width=0.2, plant=0),\n",
       " Row(sepal_length=4.7, sepal_width=3.2, petal_length=1.3, petal_width=0.2, plant=0)]"
      ]
     },
     "execution_count": 44,
     "metadata": {},
     "output_type": "execute_result"
    }
   ],
   "source": [
    "df.head(3) # we are getting data in list format in spark but in pandas it is in dataframe"
   ]
  },
  {
   "cell_type": "code",
   "execution_count": 45,
   "id": "f6c7ed28",
   "metadata": {},
   "outputs": [
    {
     "data": {
      "text/plain": [
       "DataFrame[sepal_length: double]"
      ]
     },
     "execution_count": 45,
     "metadata": {},
     "output_type": "execute_result"
    }
   ],
   "source": [
    "#or accessing specific columns\n",
    "\n",
    "df.select('sepal_length')"
   ]
  },
  {
   "cell_type": "code",
   "execution_count": 46,
   "id": "2b0c1196",
   "metadata": {},
   "outputs": [
    {
     "name": "stdout",
     "output_type": "stream",
     "text": [
      "+------------+\n",
      "|sepal_length|\n",
      "+------------+\n",
      "|         5.1|\n",
      "|         4.9|\n",
      "|         4.7|\n",
      "|         4.6|\n",
      "|         5.0|\n",
      "|         5.4|\n",
      "|         4.6|\n",
      "|         5.0|\n",
      "|         4.4|\n",
      "|         4.9|\n",
      "|         5.4|\n",
      "|         4.8|\n",
      "|         4.8|\n",
      "|         4.3|\n",
      "|         5.8|\n",
      "|         5.7|\n",
      "|         5.4|\n",
      "|         5.1|\n",
      "|         5.7|\n",
      "|         5.1|\n",
      "+------------+\n",
      "only showing top 20 rows\n",
      "\n"
     ]
    }
   ],
   "source": [
    "df.select('sepal_length').show()"
   ]
  },
  {
   "cell_type": "code",
   "execution_count": 47,
   "id": "df93be3e",
   "metadata": {},
   "outputs": [
    {
     "data": {
      "text/plain": [
       "pyspark.sql.dataframe.DataFrame"
      ]
     },
     "execution_count": 47,
     "metadata": {},
     "output_type": "execute_result"
    }
   ],
   "source": [
    "type(df.select('sepal_length'))"
   ]
  },
  {
   "cell_type": "code",
   "execution_count": 48,
   "id": "68088db4",
   "metadata": {},
   "outputs": [
    {
     "data": {
      "text/plain": [
       "DataFrame[sepal_length: double, petal_length: double]"
      ]
     },
     "execution_count": 48,
     "metadata": {},
     "output_type": "execute_result"
    }
   ],
   "source": [
    "df.select(['sepal_length','petal_length'])"
   ]
  },
  {
   "cell_type": "code",
   "execution_count": 49,
   "id": "7d30a038",
   "metadata": {},
   "outputs": [
    {
     "name": "stdout",
     "output_type": "stream",
     "text": [
      "+------------+------------+\n",
      "|sepal_length|petal_length|\n",
      "+------------+------------+\n",
      "|         5.1|         1.4|\n",
      "|         4.9|         1.4|\n",
      "|         4.7|         1.3|\n",
      "|         4.6|         1.5|\n",
      "|         5.0|         1.4|\n",
      "|         5.4|         1.7|\n",
      "|         4.6|         1.4|\n",
      "|         5.0|         1.5|\n",
      "|         4.4|         1.4|\n",
      "|         4.9|         1.5|\n",
      "|         5.4|         1.5|\n",
      "|         4.8|         1.6|\n",
      "|         4.8|         1.4|\n",
      "|         4.3|         1.1|\n",
      "|         5.8|         1.2|\n",
      "|         5.7|         1.5|\n",
      "|         5.4|         1.3|\n",
      "|         5.1|         1.4|\n",
      "|         5.7|         1.7|\n",
      "|         5.1|         1.5|\n",
      "+------------+------------+\n",
      "only showing top 20 rows\n",
      "\n"
     ]
    }
   ],
   "source": [
    "df.select(['sepal_length','petal_length']).show()"
   ]
  },
  {
   "cell_type": "markdown",
   "id": "2c0315bc",
   "metadata": {},
   "source": [
    "Slicing won't be working in pyspark"
   ]
  },
  {
   "cell_type": "code",
   "execution_count": 50,
   "id": "c5ee979f",
   "metadata": {},
   "outputs": [
    {
     "data": {
      "text/plain": [
       "Column<'petal_length'>"
      ]
     },
     "execution_count": 50,
     "metadata": {},
     "output_type": "execute_result"
    }
   ],
   "source": [
    "df['petal_length'] "
   ]
  },
  {
   "cell_type": "code",
   "execution_count": 51,
   "id": "91f79636",
   "metadata": {},
   "outputs": [
    {
     "data": {
      "text/plain": [
       "[('sepal_length', 'double'),\n",
       " ('sepal_width', 'double'),\n",
       " ('petal_length', 'double'),\n",
       " ('petal_width', 'double'),\n",
       " ('plant', 'int')]"
      ]
     },
     "execution_count": 51,
     "metadata": {},
     "output_type": "execute_result"
    }
   ],
   "source": [
    "df.dtypes #we can also check datatypes like this"
   ]
  },
  {
   "cell_type": "code",
   "execution_count": 52,
   "id": "e27a61b2",
   "metadata": {},
   "outputs": [
    {
     "data": {
      "text/plain": [
       "DataFrame[summary: string, sepal_length: string, sepal_width: string, petal_length: string, petal_width: string, plant: string]"
      ]
     },
     "execution_count": 52,
     "metadata": {},
     "output_type": "execute_result"
    }
   ],
   "source": [
    "#checking out describe function which is also be in pandas\n",
    "\n",
    "df.describe()"
   ]
  },
  {
   "cell_type": "code",
   "execution_count": 53,
   "id": "8cfc5c8c",
   "metadata": {},
   "outputs": [
    {
     "name": "stdout",
     "output_type": "stream",
     "text": [
      "+-------+------------------+-------------------+------------------+------------------+------------------+\n",
      "|summary|      sepal_length|        sepal_width|      petal_length|       petal_width|             plant|\n",
      "+-------+------------------+-------------------+------------------+------------------+------------------+\n",
      "|  count|               150|                150|               150|               150|               150|\n",
      "|   mean| 5.843333333333335| 3.0540000000000007|3.7586666666666693|1.1986666666666672|               1.0|\n",
      "| stddev|0.8280661279778637|0.43359431136217375| 1.764420419952262|0.7631607417008414|0.8192319205190406|\n",
      "|    min|               4.3|                2.0|               1.0|               0.1|                 0|\n",
      "|    max|               7.9|                4.4|               6.9|               2.5|                 2|\n",
      "+-------+------------------+-------------------+------------------+------------------+------------------+\n",
      "\n"
     ]
    }
   ],
   "source": [
    "df.describe().show()"
   ]
  },
  {
   "cell_type": "markdown",
   "id": "da063103",
   "metadata": {},
   "source": [
    "If we have string column in our dataset it represents the column but will not give mean and stddev values well ofcourse it is string"
   ]
  },
  {
   "cell_type": "code",
   "execution_count": 59,
   "id": "ff05290f",
   "metadata": {},
   "outputs": [
    {
     "name": "stdout",
     "output_type": "stream",
     "text": [
      "+------------+-----------+------------+-----------+-----+----------------+\n",
      "|sepal_length|sepal_width|petal_length|petal_width|plant|big_petal_length|\n",
      "+------------+-----------+------------+-----------+-----+----------------+\n",
      "|         5.1|        3.5|         1.4|        0.2|    0|             2.8|\n",
      "|         4.9|        3.0|         1.4|        0.2|    0|             2.8|\n",
      "|         4.7|        3.2|         1.3|        0.2|    0|             2.6|\n",
      "|         4.6|        3.1|         1.5|        0.2|    0|             3.0|\n",
      "|         5.0|        3.6|         1.4|        0.2|    0|             2.8|\n",
      "|         5.4|        3.9|         1.7|        0.4|    0|             3.4|\n",
      "|         4.6|        3.4|         1.4|        0.3|    0|             2.8|\n",
      "|         5.0|        3.4|         1.5|        0.2|    0|             3.0|\n",
      "|         4.4|        2.9|         1.4|        0.2|    0|             2.8|\n",
      "|         4.9|        3.1|         1.5|        0.1|    0|             3.0|\n",
      "|         5.4|        3.7|         1.5|        0.2|    0|             3.0|\n",
      "|         4.8|        3.4|         1.6|        0.2|    0|             3.2|\n",
      "|         4.8|        3.0|         1.4|        0.1|    0|             2.8|\n",
      "|         4.3|        3.0|         1.1|        0.1|    0|             2.2|\n",
      "|         5.8|        4.0|         1.2|        0.2|    0|             2.4|\n",
      "|         5.7|        4.4|         1.5|        0.4|    0|             3.0|\n",
      "|         5.4|        3.9|         1.3|        0.4|    0|             2.6|\n",
      "|         5.1|        3.5|         1.4|        0.3|    0|             2.8|\n",
      "|         5.7|        3.8|         1.7|        0.3|    0|             3.4|\n",
      "|         5.1|        3.8|         1.5|        0.3|    0|             3.0|\n",
      "+------------+-----------+------------+-----------+-----+----------------+\n",
      "only showing top 20 rows\n",
      "\n"
     ]
    }
   ],
   "source": [
    "# adding the columns \n",
    "df=df.withColumn('big_petal_length', df['petal_length']*2)\n",
    "df.show()"
   ]
  },
  {
   "cell_type": "code",
   "execution_count": 62,
   "id": "9d1ca4ef",
   "metadata": {},
   "outputs": [
    {
     "name": "stdout",
     "output_type": "stream",
     "text": [
      "+------------+-----------+------------+-----------+-----+----------+\n",
      "|sepal_length|sepal_width|petal_length|petal_width|plant|big_petals|\n",
      "+------------+-----------+------------+-----------+-----+----------+\n",
      "|         5.1|        3.5|         1.4|        0.2|    0|       2.8|\n",
      "|         4.9|        3.0|         1.4|        0.2|    0|       2.8|\n",
      "|         4.7|        3.2|         1.3|        0.2|    0|       2.6|\n",
      "|         4.6|        3.1|         1.5|        0.2|    0|       3.0|\n",
      "|         5.0|        3.6|         1.4|        0.2|    0|       2.8|\n",
      "|         5.4|        3.9|         1.7|        0.4|    0|       3.4|\n",
      "|         4.6|        3.4|         1.4|        0.3|    0|       2.8|\n",
      "|         5.0|        3.4|         1.5|        0.2|    0|       3.0|\n",
      "|         4.4|        2.9|         1.4|        0.2|    0|       2.8|\n",
      "|         4.9|        3.1|         1.5|        0.1|    0|       3.0|\n",
      "|         5.4|        3.7|         1.5|        0.2|    0|       3.0|\n",
      "|         4.8|        3.4|         1.6|        0.2|    0|       3.2|\n",
      "|         4.8|        3.0|         1.4|        0.1|    0|       2.8|\n",
      "|         4.3|        3.0|         1.1|        0.1|    0|       2.2|\n",
      "|         5.8|        4.0|         1.2|        0.2|    0|       2.4|\n",
      "|         5.7|        4.4|         1.5|        0.4|    0|       3.0|\n",
      "|         5.4|        3.9|         1.3|        0.4|    0|       2.6|\n",
      "|         5.1|        3.5|         1.4|        0.3|    0|       2.8|\n",
      "|         5.7|        3.8|         1.7|        0.3|    0|       3.4|\n",
      "|         5.1|        3.8|         1.5|        0.3|    0|       3.0|\n",
      "+------------+-----------+------------+-----------+-----+----------+\n",
      "only showing top 20 rows\n",
      "\n"
     ]
    }
   ],
   "source": [
    "# to rename the column\n",
    "df = df.withColumnRenamed('big_petal_length','big_petals')\n",
    "df.show()"
   ]
  },
  {
   "cell_type": "code",
   "execution_count": 58,
   "id": "26792437",
   "metadata": {},
   "outputs": [
    {
     "name": "stdout",
     "output_type": "stream",
     "text": [
      "+------------+-----------+------------+-----------+-----+\n",
      "|sepal_length|sepal_width|petal_length|petal_width|plant|\n",
      "+------------+-----------+------------+-----------+-----+\n",
      "|         5.1|        3.5|         1.4|        0.2|    0|\n",
      "|         4.9|        3.0|         1.4|        0.2|    0|\n",
      "|         4.7|        3.2|         1.3|        0.2|    0|\n",
      "|         4.6|        3.1|         1.5|        0.2|    0|\n",
      "|         5.0|        3.6|         1.4|        0.2|    0|\n",
      "|         5.4|        3.9|         1.7|        0.4|    0|\n",
      "|         4.6|        3.4|         1.4|        0.3|    0|\n",
      "|         5.0|        3.4|         1.5|        0.2|    0|\n",
      "|         4.4|        2.9|         1.4|        0.2|    0|\n",
      "|         4.9|        3.1|         1.5|        0.1|    0|\n",
      "|         5.4|        3.7|         1.5|        0.2|    0|\n",
      "|         4.8|        3.4|         1.6|        0.2|    0|\n",
      "|         4.8|        3.0|         1.4|        0.1|    0|\n",
      "|         4.3|        3.0|         1.1|        0.1|    0|\n",
      "|         5.8|        4.0|         1.2|        0.2|    0|\n",
      "|         5.7|        4.4|         1.5|        0.4|    0|\n",
      "|         5.4|        3.9|         1.3|        0.4|    0|\n",
      "|         5.1|        3.5|         1.4|        0.3|    0|\n",
      "|         5.7|        3.8|         1.7|        0.3|    0|\n",
      "|         5.1|        3.8|         1.5|        0.3|    0|\n",
      "+------------+-----------+------------+-----------+-----+\n",
      "only showing top 20 rows\n",
      "\n"
     ]
    }
   ],
   "source": [
    "# to drop the columns\n",
    "\n",
    "df=df.drop('big_petal_length')\n",
    "df.show()"
   ]
  },
  {
   "cell_type": "code",
   "execution_count": null,
   "id": "089238c4",
   "metadata": {},
   "outputs": [],
   "source": []
  },
  {
   "cell_type": "code",
   "execution_count": null,
   "id": "ca44ccc4",
   "metadata": {},
   "outputs": [],
   "source": []
  },
  {
   "cell_type": "code",
   "execution_count": null,
   "id": "6ef411ad",
   "metadata": {},
   "outputs": [],
   "source": []
  }
 ],
 "metadata": {
  "kernelspec": {
   "display_name": "Python 3 (ipykernel)",
   "language": "python",
   "name": "python3"
  },
  "language_info": {
   "codemirror_mode": {
    "name": "ipython",
    "version": 3
   },
   "file_extension": ".py",
   "mimetype": "text/x-python",
   "name": "python",
   "nbconvert_exporter": "python",
   "pygments_lexer": "ipython3",
   "version": "3.9.12"
  }
 },
 "nbformat": 4,
 "nbformat_minor": 5
}
